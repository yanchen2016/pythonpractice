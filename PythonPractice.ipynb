{
 "cells": [
  {
   "cell_type": "markdown",
   "metadata": {},
   "source": [
    "#### Write a function that, given an array A of N integers, returns the smallest positive integer (greater than 0) that does not occur in A. \n",
    "#### For example,\n",
    "#### given A = [1, 3, 6, 4, 1, 2], the function should return 5.\n",
    "#### Given A = [1, 2, 3], the function should return 4.\n",
    "#### Given A = [−1, −3], the function should return 1."
   ]
  },
  {
   "cell_type": "code",
   "execution_count": 46,
   "metadata": {},
   "outputs": [],
   "source": [
    "def solution(A):\n",
    "    a = sorted(A)\n",
    "    for i in range(len(a)-1):\n",
    "        if a[i] == a[i+1] - 1 or a[i] == a[i+1]:\n",
    "            continue\n",
    "        else:\n",
    "            if a[i] <= 0:\n",
    "                continue\n",
    "            else:\n",
    "                return a[i] + 1\n",
    "    else:\n",
    "        if a[-1] <= 0:\n",
    "            return 1\n",
    "        else:\n",
    "            return a[-1] + 1"
   ]
  },
  {
   "cell_type": "code",
   "execution_count": 50,
   "metadata": {},
   "outputs": [],
   "source": [
    "def solution(A):\n",
    "    mini = 1\n",
    "    a = sorted(A)\n",
    "    for i in range(len(a)):\n",
    "        if a[i] > mini:\n",
    "            return mini\n",
    "        if a[i] == mini:\n",
    "            mini += 1\n",
    "    return mini"
   ]
  },
  {
   "cell_type": "code",
   "execution_count": 51,
   "metadata": {},
   "outputs": [
    {
     "data": {
      "text/plain": [
       "5"
      ]
     },
     "execution_count": 51,
     "metadata": {},
     "output_type": "execute_result"
    }
   ],
   "source": [
    "solution([1,3,6,4,1,2])"
   ]
  },
  {
   "cell_type": "code",
   "execution_count": 48,
   "metadata": {},
   "outputs": [
    {
     "data": {
      "text/plain": [
       "1"
      ]
     },
     "execution_count": 48,
     "metadata": {},
     "output_type": "execute_result"
    }
   ],
   "source": [
    "solution([-1,-3])"
   ]
  },
  {
   "cell_type": "code",
   "execution_count": 49,
   "metadata": {},
   "outputs": [
    {
     "data": {
      "text/plain": [
       "4"
      ]
     },
     "execution_count": 49,
     "metadata": {},
     "output_type": "execute_result"
    }
   ],
   "source": [
    "solution([1,2,3])"
   ]
  }
 ],
 "metadata": {
  "kernelspec": {
   "display_name": "Python 3",
   "language": "python",
   "name": "python3"
  },
  "language_info": {
   "codemirror_mode": {
    "name": "ipython",
    "version": 3
   },
   "file_extension": ".py",
   "mimetype": "text/x-python",
   "name": "python",
   "nbconvert_exporter": "python",
   "pygments_lexer": "ipython3",
   "version": "3.8.5"
  }
 },
 "nbformat": 4,
 "nbformat_minor": 4
}
